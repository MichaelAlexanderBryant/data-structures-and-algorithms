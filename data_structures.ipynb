{
 "cells": [
  {
   "cell_type": "markdown",
   "id": "9d863aa5",
   "metadata": {},
   "source": [
    "# 1. Arrays, Hash Tables, and Strings\n",
    "\n",
    "Arrays are a fixed size structure while an array-list allows for dynamic resizing (which is what Python uses). Computational complexity of insertion into an array-list is O(1) even though when the size limit is reached the contents must be moved to a larger array. This is due to amortized runtime where the actual runtime is O(N), but since it happens so infrequently the average is O(1).  \n",
    "\n",
    "Hash Tables worst case access is O(N) due to collisions, but if there are minimal collisions then it is O(1).\n",
    "\n",
    "Concatenating strings takes O(N<sup>2</sup>) time because strings are immutable, so each element needs to be copied over repeatedly. To overcome this, use a list to store strings then \"\".join() the list. This reduces concatenation to O(N)."
   ]
  },
  {
   "cell_type": "markdown",
   "id": "96ec30ca",
   "metadata": {},
   "source": [
    "# 2. Linked Lists\n",
    "\n",
    "No constant time access like an array, because must iterate through list to find Kth value. Benefit is that values can be added or removed from beginning of the list in constant time.\n",
    "\n",
    "Can be singly or doubly linked (i.e., pointing either forward or backwards, or pointing forward and backwards).\n",
    "\n",
    "## Singly linked:"
   ]
  },
  {
   "cell_type": "code",
   "execution_count": 5,
   "id": "8a5c5075",
   "metadata": {},
   "outputs": [],
   "source": [
    "class Node:\n",
    "    def __init__(self, val):\n",
    "        self.val = val\n",
    "        self.next = None\n",
    "        \n",
    "    def append_to_tail(self, node):\n",
    "        self.next = node"
   ]
  },
  {
   "cell_type": "code",
   "execution_count": 15,
   "id": "d289a542",
   "metadata": {},
   "outputs": [
    {
     "name": "stdout",
     "output_type": "stream",
     "text": [
      "Node value: 1; next: None\n"
     ]
    }
   ],
   "source": [
    "root = Node(1)\n",
    "print(f\"Node value: {root.val}; next: {root.next}\")"
   ]
  },
  {
   "cell_type": "code",
   "execution_count": 18,
   "id": "d5f7110c",
   "metadata": {},
   "outputs": [
    {
     "name": "stdout",
     "output_type": "stream",
     "text": [
      "Node value: 1; next: <__main__.Node object at 0x7fe4357352e0>; next value: 2; next next: None\n"
     ]
    }
   ],
   "source": [
    "root.append_to_tail(Node(2))\n",
    "print(f\"Node value: {root.val}; next: {root.next}; next value: {root.next.val}; next next: {root.next.next}\")"
   ]
  },
  {
   "cell_type": "markdown",
   "id": "9b234b37",
   "metadata": {},
   "source": [
    "## Doubly linked:"
   ]
  },
  {
   "cell_type": "code",
   "execution_count": 20,
   "id": "ae7a45b4",
   "metadata": {},
   "outputs": [],
   "source": [
    "class Node:\n",
    "    def __init__(self, val):\n",
    "        self.val = val\n",
    "        self.next = None\n",
    "        self.prev = None\n",
    "        \n",
    "    def append_to_tail(self, node):\n",
    "        self.next = node\n",
    "        \n",
    "    def append_to_head(self, node):\n",
    "        self.prev = node"
   ]
  },
  {
   "cell_type": "code",
   "execution_count": 21,
   "id": "a038b732",
   "metadata": {},
   "outputs": [
    {
     "name": "stdout",
     "output_type": "stream",
     "text": [
      "Node value: 1; next: None; prev: None\n"
     ]
    }
   ],
   "source": [
    "root = Node(1)\n",
    "print(f\"Node value: {root.val}; next: {root.next}; prev: {root.prev}\")"
   ]
  },
  {
   "cell_type": "code",
   "execution_count": 24,
   "id": "440464b2",
   "metadata": {},
   "outputs": [
    {
     "name": "stdout",
     "output_type": "stream",
     "text": [
      "Node value: 1\n",
      "next: <__main__.Node object at 0x7fe435566fa0>\n",
      "prev: <__main__.Node object at 0x7fe435530970>\n",
      "next value: 2\n",
      "next next: None\n",
      "prev value: 5\n",
      "prev next: None\n"
     ]
    }
   ],
   "source": [
    "root.append_to_tail(Node(2))\n",
    "root.append_to_head(Node(5))\n",
    "print(f\"Node value: {root.val}\\nnext: {root.next}\\nprev: {root.prev}\\nnext value: {root.next.val}\\nnext next: {root.next.next}\\nprev value: {root.prev.val}\\nprev next: {root.next.next}\")"
   ]
  },
  {
   "cell_type": "code",
   "execution_count": 27,
   "id": "5940f210",
   "metadata": {},
   "outputs": [
    {
     "data": {
      "text/plain": [
       "5"
      ]
     },
     "execution_count": 27,
     "metadata": {},
     "output_type": "execute_result"
    }
   ],
   "source": [
    "root = root.prev\n",
    "root.val"
   ]
  },
  {
   "cell_type": "markdown",
   "id": "97009889",
   "metadata": {},
   "source": [
    "## Deleting nodes\n",
    "\n",
    "To delete a node NODE for singly linked lists, ensure the node ahead of NODE (if it exists) is pointing to the node after NODE. For doubly linked lists, ensure the node behind NODE is pointing to the node ahead of NODE.\n",
    "\n",
    "# 3. Stacks and Queues\n",
    "\n",
    "A stack (LIFO) is an alternative to an array that does not allow constant-time access to the ith item, but allows constant time adds and removes. The operations of a stack are: pop(), push(item), peek(), and isEmpty(). Can be implemented using a linked list. Useful for certain recursive algorithms and can be used to replace a recursive algorithm with an iterative algorithm."
   ]
  },
  {
   "cell_type": "code",
   "execution_count": 35,
   "id": "e0d7ee45",
   "metadata": {},
   "outputs": [],
   "source": [
    "class Stack:\n",
    "    def __init__(self, item):\n",
    "        self.stack = [item]\n",
    "    \n",
    "    def pop(self):\n",
    "        try:\n",
    "            return self.stack.pop(-1)\n",
    "        except:\n",
    "            return None\n",
    "    \n",
    "    def push(self, item):\n",
    "        self.stack.append(item)\n",
    "        \n",
    "    def peek(self):\n",
    "        try:\n",
    "            return self.stack[-1]\n",
    "        except:\n",
    "            return None\n",
    "    \n",
    "    def isEmpty(self):\n",
    "        if self.stack:\n",
    "            return False\n",
    "        else:\n",
    "            return True"
   ]
  },
  {
   "cell_type": "code",
   "execution_count": 40,
   "id": "0790cd78",
   "metadata": {},
   "outputs": [
    {
     "data": {
      "text/plain": [
       "0"
      ]
     },
     "execution_count": 40,
     "metadata": {},
     "output_type": "execute_result"
    }
   ],
   "source": [
    "a = Stack(0)\n",
    "a.peek()"
   ]
  },
  {
   "cell_type": "code",
   "execution_count": 41,
   "id": "8dd6e993",
   "metadata": {},
   "outputs": [
    {
     "data": {
      "text/plain": [
       "1"
      ]
     },
     "execution_count": 41,
     "metadata": {},
     "output_type": "execute_result"
    }
   ],
   "source": [
    "a.push(1)\n",
    "a.peek()"
   ]
  },
  {
   "cell_type": "code",
   "execution_count": 42,
   "id": "b30dc5b5",
   "metadata": {},
   "outputs": [
    {
     "data": {
      "text/plain": [
       "0"
      ]
     },
     "execution_count": 42,
     "metadata": {},
     "output_type": "execute_result"
    }
   ],
   "source": [
    "a.pop()\n",
    "a.peek()"
   ]
  },
  {
   "cell_type": "code",
   "execution_count": 43,
   "id": "d72efc3a",
   "metadata": {},
   "outputs": [
    {
     "data": {
      "text/plain": [
       "False"
      ]
     },
     "execution_count": 43,
     "metadata": {},
     "output_type": "execute_result"
    }
   ],
   "source": [
    "a.isEmpty()"
   ]
  },
  {
   "cell_type": "code",
   "execution_count": 44,
   "id": "5bfca591",
   "metadata": {},
   "outputs": [
    {
     "data": {
      "text/plain": [
       "True"
      ]
     },
     "execution_count": 44,
     "metadata": {},
     "output_type": "execute_result"
    }
   ],
   "source": [
    "a.pop()\n",
    "a.isEmpty()"
   ]
  },
  {
   "cell_type": "code",
   "execution_count": 47,
   "id": "c5723ea3",
   "metadata": {},
   "outputs": [
    {
     "data": {
      "text/plain": [
       "False"
      ]
     },
     "execution_count": 47,
     "metadata": {},
     "output_type": "execute_result"
    }
   ],
   "source": [
    "a.push(3)\n",
    "a.isEmpty()"
   ]
  },
  {
   "cell_type": "markdown",
   "id": "8e7122c3",
   "metadata": {},
   "source": [
    "A queue is similar to a stack except it is FIFO. The operations of a queue are: add(item), remove(), peek(), and isEmpty(). It can also be implemented with a linked list. Queues are useful for breadth-first searches and implementing a cache. "
   ]
  },
  {
   "cell_type": "code",
   "execution_count": 58,
   "id": "aadbbd9e",
   "metadata": {},
   "outputs": [],
   "source": [
    "class Queue:\n",
    "    def __init__(self, item):\n",
    "        self.queue = [item]\n",
    "    \n",
    "    def remove(self):\n",
    "        try:\n",
    "            self.queue.pop(0)\n",
    "        except:\n",
    "            return None\n",
    "    \n",
    "    def add(self, item):\n",
    "        self.queue.append(item)\n",
    "        \n",
    "    def peek(self):\n",
    "        try:\n",
    "            return self.queue[0]\n",
    "        except:\n",
    "            return None\n",
    "    \n",
    "    def isEmpty(self):\n",
    "        if self.queue:\n",
    "            return False\n",
    "        else:\n",
    "            return True"
   ]
  },
  {
   "cell_type": "code",
   "execution_count": 59,
   "id": "e601bb54",
   "metadata": {},
   "outputs": [
    {
     "data": {
      "text/plain": [
       "False"
      ]
     },
     "execution_count": 59,
     "metadata": {},
     "output_type": "execute_result"
    }
   ],
   "source": [
    "b = Queue(1)\n",
    "b.isEmpty()"
   ]
  },
  {
   "cell_type": "code",
   "execution_count": 60,
   "id": "3a6367df",
   "metadata": {},
   "outputs": [
    {
     "data": {
      "text/plain": [
       "1"
      ]
     },
     "execution_count": 60,
     "metadata": {},
     "output_type": "execute_result"
    }
   ],
   "source": [
    "b.peek()"
   ]
  },
  {
   "cell_type": "code",
   "execution_count": 61,
   "id": "58667a55",
   "metadata": {},
   "outputs": [
    {
     "data": {
      "text/plain": [
       "1"
      ]
     },
     "execution_count": 61,
     "metadata": {},
     "output_type": "execute_result"
    }
   ],
   "source": [
    "b.add(5)\n",
    "b.peek()"
   ]
  },
  {
   "cell_type": "code",
   "execution_count": 62,
   "id": "56bc9b86",
   "metadata": {},
   "outputs": [
    {
     "data": {
      "text/plain": [
       "5"
      ]
     },
     "execution_count": 62,
     "metadata": {},
     "output_type": "execute_result"
    }
   ],
   "source": [
    "b.remove()\n",
    "b.peek()"
   ]
  },
  {
   "cell_type": "code",
   "execution_count": 63,
   "id": "244324c9",
   "metadata": {},
   "outputs": [
    {
     "data": {
      "text/plain": [
       "True"
      ]
     },
     "execution_count": 63,
     "metadata": {},
     "output_type": "execute_result"
    }
   ],
   "source": [
    "b.remove()\n",
    "b.isEmpty()"
   ]
  },
  {
   "cell_type": "markdown",
   "id": "c853d99c",
   "metadata": {},
   "source": [
    "## Example 1: Stack Min"
   ]
  },
  {
   "cell_type": "code",
   "execution_count": 11,
   "id": "2dfde0ff",
   "metadata": {},
   "outputs": [],
   "source": [
    "class StackMin:\n",
    "    def __init__(self, item):\n",
    "        self.stack = [None, item]\n",
    "        self.minimum = item\n",
    "    \n",
    "    def pop(self):\n",
    "        self.stack.pop(-1)\n",
    "        self.minimum = self.stack[-1]\n",
    "        self.stack.pop(-1)\n",
    "    \n",
    "    def push(self, item):\n",
    "        self.stack.append(self.minimum)\n",
    "        if not self.minimum or item < self.minimum:\n",
    "            self.minimum = item\n",
    "        self.stack.append(item)\n",
    "        \n",
    "    def peek(self):\n",
    "        try:\n",
    "            return self.stack[-1]\n",
    "        except:\n",
    "            return None\n",
    "    \n",
    "    def isEmpty(self):\n",
    "        if self.stack:\n",
    "            return False\n",
    "        else:\n",
    "            return True\n",
    "        \n",
    "    def isMin(self):\n",
    "        return self.minimum"
   ]
  },
  {
   "cell_type": "code",
   "execution_count": 12,
   "id": "7917787d",
   "metadata": {},
   "outputs": [
    {
     "data": {
      "text/plain": [
       "5"
      ]
     },
     "execution_count": 12,
     "metadata": {},
     "output_type": "execute_result"
    }
   ],
   "source": [
    "c = StackMin(5)\n",
    "c.isMin()"
   ]
  },
  {
   "cell_type": "code",
   "execution_count": 13,
   "id": "ddc13484",
   "metadata": {},
   "outputs": [],
   "source": [
    "c.push(4)"
   ]
  },
  {
   "cell_type": "code",
   "execution_count": 14,
   "id": "12eb709f",
   "metadata": {},
   "outputs": [
    {
     "data": {
      "text/plain": [
       "4"
      ]
     },
     "execution_count": 14,
     "metadata": {},
     "output_type": "execute_result"
    }
   ],
   "source": [
    "c.isMin()"
   ]
  },
  {
   "cell_type": "code",
   "execution_count": 15,
   "id": "f2c0611d",
   "metadata": {},
   "outputs": [],
   "source": [
    "c.pop()"
   ]
  },
  {
   "cell_type": "code",
   "execution_count": 16,
   "id": "c707d047",
   "metadata": {},
   "outputs": [
    {
     "data": {
      "text/plain": [
       "5"
      ]
     },
     "execution_count": 16,
     "metadata": {},
     "output_type": "execute_result"
    }
   ],
   "source": [
    "c.isMin()"
   ]
  },
  {
   "cell_type": "code",
   "execution_count": 17,
   "id": "1522e4f1",
   "metadata": {},
   "outputs": [],
   "source": [
    "c.pop()"
   ]
  },
  {
   "cell_type": "code",
   "execution_count": 18,
   "id": "6eff8058",
   "metadata": {},
   "outputs": [],
   "source": [
    "c.isMin()"
   ]
  },
  {
   "cell_type": "code",
   "execution_count": 19,
   "id": "cea0616c",
   "metadata": {},
   "outputs": [
    {
     "data": {
      "text/plain": [
       "True"
      ]
     },
     "execution_count": 19,
     "metadata": {},
     "output_type": "execute_result"
    }
   ],
   "source": [
    "c.isEmpty()"
   ]
  },
  {
   "cell_type": "code",
   "execution_count": 20,
   "id": "c32bf403",
   "metadata": {},
   "outputs": [],
   "source": [
    "c.push(5)"
   ]
  },
  {
   "cell_type": "code",
   "execution_count": 21,
   "id": "17aa5065",
   "metadata": {},
   "outputs": [
    {
     "data": {
      "text/plain": [
       "5"
      ]
     },
     "execution_count": 21,
     "metadata": {},
     "output_type": "execute_result"
    }
   ],
   "source": [
    "c.isMin()"
   ]
  },
  {
   "cell_type": "code",
   "execution_count": 22,
   "id": "cee2bf83",
   "metadata": {},
   "outputs": [
    {
     "data": {
      "text/plain": [
       "5"
      ]
     },
     "execution_count": 22,
     "metadata": {},
     "output_type": "execute_result"
    }
   ],
   "source": [
    "c.peek()"
   ]
  },
  {
   "cell_type": "markdown",
   "id": "3418ffab",
   "metadata": {},
   "source": [
    "## Example 2: Queue via Stacks"
   ]
  },
  {
   "cell_type": "code",
   "execution_count": 36,
   "id": "04cfab2f",
   "metadata": {},
   "outputs": [],
   "source": [
    "class QueueByStacks:\n",
    "    def __init__(self, val):\n",
    "        self.s1 = Stack(None)\n",
    "        self.s2 = Stack(None)\n",
    "        self.s1.push(val)\n",
    "    \n",
    "    def remove(self):\n",
    "        if self.s1.peek():\n",
    "            while self.s1.peek():\n",
    "                self.s2.push(self.s1.pop())\n",
    "            self.s2.pop()\n",
    "            while self.s2.peek():\n",
    "                self.s1.push(self.s2.pop())\n",
    "        else:\n",
    "            return None        \n",
    "            \n",
    "    def add(self, item):\n",
    "        self.s1.push(item)\n",
    "        \n",
    "    def peek(self):\n",
    "        if self.s1.peek():\n",
    "            while self.s1.peek():\n",
    "                self.s2.push(self.s1.pop())\n",
    "            temp = self.s2.peek()\n",
    "            while self.s2.peek():\n",
    "                self.s1.push(self.s2.pop())\n",
    "            return temp\n",
    "        else:\n",
    "            return None  \n",
    "    \n",
    "    def isEmpty(self):\n",
    "        if self.s1.peek():\n",
    "            return False\n",
    "        else:\n",
    "            return True"
   ]
  },
  {
   "cell_type": "code",
   "execution_count": 43,
   "id": "bdb69329",
   "metadata": {},
   "outputs": [
    {
     "data": {
      "text/plain": [
       "5"
      ]
     },
     "execution_count": 43,
     "metadata": {},
     "output_type": "execute_result"
    }
   ],
   "source": [
    "a = QueueByStacks(5)\n",
    "a.peek()"
   ]
  },
  {
   "cell_type": "code",
   "execution_count": 44,
   "id": "bba81d6a",
   "metadata": {},
   "outputs": [
    {
     "data": {
      "text/plain": [
       "5"
      ]
     },
     "execution_count": 44,
     "metadata": {},
     "output_type": "execute_result"
    }
   ],
   "source": [
    "a.add(7)\n",
    "a.add(8)\n",
    "a.add(9)\n",
    "a.peek()"
   ]
  },
  {
   "cell_type": "code",
   "execution_count": 45,
   "id": "3f67b4ce",
   "metadata": {},
   "outputs": [
    {
     "data": {
      "text/plain": [
       "7"
      ]
     },
     "execution_count": 45,
     "metadata": {},
     "output_type": "execute_result"
    }
   ],
   "source": [
    "a.remove()\n",
    "a.peek()"
   ]
  },
  {
   "cell_type": "code",
   "execution_count": 46,
   "id": "96cda793",
   "metadata": {},
   "outputs": [
    {
     "data": {
      "text/plain": [
       "False"
      ]
     },
     "execution_count": 46,
     "metadata": {},
     "output_type": "execute_result"
    }
   ],
   "source": [
    "a.add(10)\n",
    "a.isEmpty()"
   ]
  },
  {
   "cell_type": "code",
   "execution_count": 47,
   "id": "fe99a812",
   "metadata": {},
   "outputs": [
    {
     "data": {
      "text/plain": [
       "7"
      ]
     },
     "execution_count": 47,
     "metadata": {},
     "output_type": "execute_result"
    }
   ],
   "source": [
    "a.peek()"
   ]
  },
  {
   "cell_type": "markdown",
   "id": "785bd75b",
   "metadata": {},
   "source": [
    "## Example 3: Sorted Stack"
   ]
  },
  {
   "cell_type": "code",
   "execution_count": 79,
   "id": "59e12897",
   "metadata": {},
   "outputs": [],
   "source": [
    "class SortedStack:\n",
    "    def __init__(self, item):\n",
    "        self.stack1 = [None, item]\n",
    "        self.stack2 = [None]\n",
    "    \n",
    "    def pop(self):\n",
    "        try:\n",
    "            return self.stack1.pop(-1)\n",
    "        except:\n",
    "            return None\n",
    "    \n",
    "    def push(self, item):\n",
    "        if self.stack1[-1]:\n",
    "            while self.stack1[-1] and self.stack1[-1] < item:\n",
    "                self.stack2.append(self.stack1.pop())\n",
    "            self.stack1.append(item)\n",
    "            while self.stack2[-1]:\n",
    "                self.stack1.append(self.stack2.pop())\n",
    "        else:\n",
    "            self.stack1.append(item)\n",
    "        \n",
    "    def peek(self):\n",
    "        try:\n",
    "            return self.stack1[-1]\n",
    "        except:\n",
    "            return None\n",
    "    \n",
    "    def isEmpty(self):\n",
    "        if self.stack1:\n",
    "            return False\n",
    "        else:\n",
    "            return True"
   ]
  },
  {
   "cell_type": "code",
   "execution_count": 80,
   "id": "2a8c95e1",
   "metadata": {},
   "outputs": [
    {
     "data": {
      "text/plain": [
       "5"
      ]
     },
     "execution_count": 80,
     "metadata": {},
     "output_type": "execute_result"
    }
   ],
   "source": [
    "a = SortedStack(5)\n",
    "a.peek()"
   ]
  },
  {
   "cell_type": "code",
   "execution_count": 81,
   "id": "23a1d205",
   "metadata": {},
   "outputs": [
    {
     "data": {
      "text/plain": [
       "False"
      ]
     },
     "execution_count": 81,
     "metadata": {},
     "output_type": "execute_result"
    }
   ],
   "source": [
    "a.pop()\n",
    "a.isEmpty()"
   ]
  },
  {
   "cell_type": "code",
   "execution_count": 82,
   "id": "1cc3f2b7",
   "metadata": {},
   "outputs": [
    {
     "data": {
      "text/plain": [
       "5"
      ]
     },
     "execution_count": 82,
     "metadata": {},
     "output_type": "execute_result"
    }
   ],
   "source": [
    "a.push(5)\n",
    "a.peek()"
   ]
  },
  {
   "cell_type": "code",
   "execution_count": 83,
   "id": "cf65968e",
   "metadata": {},
   "outputs": [
    {
     "data": {
      "text/plain": [
       "3"
      ]
     },
     "execution_count": 83,
     "metadata": {},
     "output_type": "execute_result"
    }
   ],
   "source": [
    "a.push(3)\n",
    "a.peek()"
   ]
  },
  {
   "cell_type": "code",
   "execution_count": 84,
   "id": "d81bbbed",
   "metadata": {},
   "outputs": [
    {
     "data": {
      "text/plain": [
       "3"
      ]
     },
     "execution_count": 84,
     "metadata": {},
     "output_type": "execute_result"
    }
   ],
   "source": [
    "a.push(10)\n",
    "a.peek()"
   ]
  },
  {
   "cell_type": "markdown",
   "id": "64cd430e",
   "metadata": {},
   "source": [
    "# 4. Trees and Graphs\n",
    "\n",
    "Trees are a subset of graphs. Where the tree has a root node and children, and cannot contain cycles.\n",
    "\n",
    "## Types of Trees\n",
    "\n",
    "Binary trees are a type of tree where each node has up to two children. Other types of trees have other number of children (e.g., ternary tree which has up to three children). A node with no children is called a leaf.\n",
    "\n",
    "A binary search tree is a binary tree whose left descendents are <= the parents and < the right descendents. All nodes on the left must be less than or equal to the parents (not just the immediate nodes).\n",
    "\n",
    "Balanced trees do not necessarily mean perfectly balanced, but instead means \"not terribly imbalanced.\" It's balanced enough to ensure O(log N) times for insertion and finding, not necessarily as balanced as it could be. Two types of balanced trees are red-black trees and AVL trees (which are advanced topics).\n",
    "\n",
    "<b>Complete Binary Trees</b> are trees that are completely filled out until possibly the last level from left to right. If a parent has a right child but not a left child then it is not a complete binary tree.\n",
    "\n",
    "<b>Full Binary Trees</b> are trees where every node has either zero or two children. No nodes have a single child.\n",
    "\n",
    "<b>Perfect Binary Trees</b> are trees where all interior nodes have two children and all leaf nodes are on the same level. These are rare in interviews and real life.\n",
    "\n",
    "## Binary Tree Traversal\n",
    "\n",
    "Should be comfortable with the following traversals:\n",
    "1. In-order (left branch -> current node -> right branch)\n",
    "2. Pre-order (current node -> left branch -> right branch)\n",
    "3. Post-order (left branch -> right branch -> current node)\n",
    "\n",
    "## Binary Heaps (Min-Heaps and Max-Heaps)\n",
    "\n",
    "Min-heap are complete binary trees where each node is smaller than its children. The root is the minimum of the tree. The two key operations are insert(item) and extract_min().\n",
    "\n",
    "Insert: insert new element onto bottom of tree in next available spot and bubble up after comparing the element with its parent.\n",
    "\n",
    "Extract minimum: to remove swap minimum element (root) with bottom most element to the right then bubbledown by swapping with children. Swap with smallest child to maintain min-heap property.\n",
    "\n",
    "## Tries (Prefix Trees)\n",
    "\n",
    "A trie is an n-ary tree where each path represents a word and a special character is placed at the end of each word to indicate the end. Commonly used for storing entire language for quick prefix lookup (in O(k) time where k is the size of the word).\n",
    "\n",
    "## Graphs\n",
    "\n",
    "A tree is a connected graph without cycles. A graph is a collection of nodes with edges between (some of) them. They can be directed or undirected. They can consist of multiple isolated subgraphs. If there is a path between every pair of vertices then it is called a \"connected graph.\" The two common ways of representing a graph are as adjacency lists and adjacency matrices.\n",
    "\n",
    "### Adjacency List\n",
    "\n",
    "All edges are stored in a list. Typically represented by classes, but can also be represented by an array or hash table of lists (arrays, arraylists, linked lists, etc.). Implementation of an undirected graph using classes:"
   ]
  },
  {
   "cell_type": "code",
   "execution_count": 89,
   "id": "a3d03202",
   "metadata": {},
   "outputs": [],
   "source": [
    "class UndirectedGraph:\n",
    "    def __init__(self, v):\n",
    "        self.v = v\n",
    "        self.adj_list = [set() for i in range(self.v)]\n",
    "        \n",
    "    def add_edge(self, i, j):\n",
    "        assert 0 <= i < self.v\n",
    "        assert 0 <= j < self.v\n",
    "        self.adj_list[i].add(j)\n",
    "        self.adj_list[j].add(i)"
   ]
  },
  {
   "cell_type": "code",
   "execution_count": 90,
   "id": "7db6dbff",
   "metadata": {},
   "outputs": [],
   "source": [
    "n_vertices = 5\n",
    "a = UndirectedGraph(n_vertices)"
   ]
  },
  {
   "cell_type": "code",
   "execution_count": 91,
   "id": "33243028",
   "metadata": {},
   "outputs": [
    {
     "data": {
      "text/plain": [
       "[set(), set(), set(), set(), set()]"
      ]
     },
     "execution_count": 91,
     "metadata": {},
     "output_type": "execute_result"
    }
   ],
   "source": [
    "a.adj_list"
   ]
  },
  {
   "cell_type": "code",
   "execution_count": 92,
   "id": "64b0f04f",
   "metadata": {},
   "outputs": [
    {
     "data": {
      "text/plain": [
       "[{1, 3}, {0, 2}, {1}, {0, 4}, {3}]"
      ]
     },
     "execution_count": 92,
     "metadata": {},
     "output_type": "execute_result"
    }
   ],
   "source": [
    "a.add_edge(0,1)\n",
    "a.add_edge(1,2)\n",
    "a.add_edge(0,3)\n",
    "a.add_edge(3,4)\n",
    "a.adj_list"
   ]
  },
  {
   "cell_type": "markdown",
   "id": "fee9c58b",
   "metadata": {},
   "source": [
    "Implementation of a directed graph using classes:"
   ]
  },
  {
   "cell_type": "code",
   "execution_count": 93,
   "id": "2c4cd32c",
   "metadata": {},
   "outputs": [],
   "source": [
    "class DirectedGraph:\n",
    "    def __init__(self, v):\n",
    "        self.v = v\n",
    "        self.adj_list = [set() for i in range(self.v)]\n",
    "        \n",
    "    def add_edge(self, start_node, end_node):\n",
    "        assert 0 <= start_node < self.v\n",
    "        assert 0 <= end_node < self.v\n",
    "        self.adj_list[start_node].add(end_node)"
   ]
  },
  {
   "cell_type": "markdown",
   "id": "b30d4896",
   "metadata": {},
   "source": [
    "Example using a hash table of arraylists with 7 vertices:"
   ]
  },
  {
   "cell_type": "code",
   "execution_count": 85,
   "id": "f7e4f76a",
   "metadata": {},
   "outputs": [],
   "source": [
    "graph = {0: [1], 1: [2], 2: [0, 3], 3: [2], 4: [6], 5: [4], 6: [5]}"
   ]
  },
  {
   "cell_type": "markdown",
   "id": "eb04bb59",
   "metadata": {},
   "source": [
    "### Adjacency Matrices\n",
    "\n",
    "An NxN boolean matrix where N is the number of nodes and entry matrix[i][j] represents an edge from i to j. In an undirected graph, the adjacency matrix is symmetric but for directed graphs it is not. Algorithms used for adjacency lists can be used with adjacency matrices, but they may be less efficient.\n",
    "\n",
    "## Graph Search\n",
    "\n",
    "Two most common ways to search a graph are depth-first search (DFS) and breadth-first search (BFS). In DFS, start at root then explore a branch completely before exploring others. In BFS, start at root and explore each neighbor before going to their children.\n",
    "\n",
    "When implementing DFS for a graph, must check if node has been visited and can be implemented with recursion. BFS is implemented using iteration and a queue.\n",
    "\n",
    "Bidirectional search is used to find the shortest path by implementing two BFS (one from each of the start and end nodes). When the searches collide then that is the shortest path.\n",
    "\n",
    "Using one BFS has a time complexity of O(k<sup>d</sup>) where k is the adjacent nodes and d is the length between the start and end nodes. Using bidirectional search, the time complexity is O(k<sup>d/2</sup>).\n",
    "\n",
    "### DFS"
   ]
  },
  {
   "cell_type": "code",
   "execution_count": 103,
   "id": "ad32bf3e",
   "metadata": {},
   "outputs": [],
   "source": [
    "class DFS:\n",
    "    def __init__(self, graph):\n",
    "        self.graph = graph\n",
    "        self.v = self.graph.v\n",
    "        self.adj_list = self.graph.adj_list\n",
    "        self.visited = set()\n",
    "    \n",
    "    def search(self, node):\n",
    "        if node not in self.visited:\n",
    "            print(node)\n",
    "            self.visited.add(node)\n",
    "            for neighbor in self.adj_list[node]:\n",
    "                self.search(neighbor)    "
   ]
  },
  {
   "cell_type": "code",
   "execution_count": 104,
   "id": "c5a67304",
   "metadata": {},
   "outputs": [
    {
     "data": {
      "text/plain": [
       "[{1, 3}, {0, 2}, {1}, {0, 4}, {3}]"
      ]
     },
     "execution_count": 104,
     "metadata": {},
     "output_type": "execute_result"
    }
   ],
   "source": [
    "n_vertices = 5\n",
    "a = UndirectedGraph(n_vertices)\n",
    "a.add_edge(0,1)\n",
    "a.add_edge(1,2)\n",
    "a.add_edge(0,3)\n",
    "a.add_edge(3,4)\n",
    "a.adj_list"
   ]
  },
  {
   "cell_type": "code",
   "execution_count": 105,
   "id": "c328035a",
   "metadata": {},
   "outputs": [
    {
     "name": "stdout",
     "output_type": "stream",
     "text": [
      "1\n",
      "0\n",
      "3\n",
      "4\n",
      "2\n"
     ]
    }
   ],
   "source": [
    "getDFS = DFS(a)\n",
    "getDFS.search(1)"
   ]
  },
  {
   "cell_type": "markdown",
   "id": "87452df5",
   "metadata": {},
   "source": [
    "### BFS"
   ]
  },
  {
   "cell_type": "code",
   "execution_count": 117,
   "id": "b4c7b567",
   "metadata": {},
   "outputs": [],
   "source": [
    "class BFS:\n",
    "    def __init__(self, graph):\n",
    "        self.graph = graph\n",
    "        self.v = self.graph.v\n",
    "        self.adj_list = self.graph.adj_list\n",
    "        self.visited = set()\n",
    "        self.queue = []\n",
    "    \n",
    "    def search(self, node):\n",
    "        self.visited.add(node)\n",
    "        self.queue.append(node)\n",
    "        while self.queue:\n",
    "            next_vertex = self.queue.pop(0)\n",
    "            print(next_vertex)\n",
    "            for neighbor in self.adj_list[next_vertex]:\n",
    "                if neighbor not in self.visited:\n",
    "                    self.visited.add(neighbor)\n",
    "                    self.queue.append(neighbor)"
   ]
  },
  {
   "cell_type": "code",
   "execution_count": 119,
   "id": "5e069504",
   "metadata": {},
   "outputs": [
    {
     "name": "stdout",
     "output_type": "stream",
     "text": [
      "1\n",
      "0\n",
      "2\n",
      "3\n",
      "4\n"
     ]
    }
   ],
   "source": [
    "getBFS = BFS(a)\n",
    "getBFS.search(1)"
   ]
  }
 ],
 "metadata": {
  "kernelspec": {
   "display_name": "Python 3 (ipykernel)",
   "language": "python",
   "name": "python3"
  },
  "language_info": {
   "codemirror_mode": {
    "name": "ipython",
    "version": 3
   },
   "file_extension": ".py",
   "mimetype": "text/x-python",
   "name": "python",
   "nbconvert_exporter": "python",
   "pygments_lexer": "ipython3",
   "version": "3.9.12"
  }
 },
 "nbformat": 4,
 "nbformat_minor": 5
}
